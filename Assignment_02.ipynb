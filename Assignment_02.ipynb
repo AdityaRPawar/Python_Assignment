{
  "nbformat": 4,
  "nbformat_minor": 0,
  "metadata": {
    "colab": {
      "provenance": [],
      "authorship_tag": "ABX9TyNJ8lOuQZ1Gzz8lYyjdAM7c",
      "include_colab_link": true
    },
    "kernelspec": {
      "name": "python3",
      "display_name": "Python 3"
    },
    "language_info": {
      "name": "python"
    }
  },
  "cells": [
    {
      "cell_type": "markdown",
      "metadata": {
        "id": "view-in-github",
        "colab_type": "text"
      },
      "source": [
        "<a href=\"https://colab.research.google.com/github/AdityaRPawar/Python_Assignment/blob/main/Assignment_02.ipynb\" target=\"_parent\"><img src=\"https://colab.research.google.com/assets/colab-badge.svg\" alt=\"Open In Colab\"/></a>"
      ]
    },
    {
      "cell_type": "markdown",
      "source": [
        "# Assignment 02\n"
      ],
      "metadata": {
        "id": "lBHLxELjQ05-"
      }
    },
    {
      "cell_type": "code",
      "execution_count": null,
      "metadata": {
        "colab": {
          "base_uri": "https://localhost:8080/"
        },
        "id": "TE-EJ8rmQm18",
        "outputId": "c1a8bae7-b884-4e42-d728-704bce2c1167"
      },
      "outputs": [
        {
          "output_type": "stream",
          "name": "stdout",
          "text": [
            "How many numbers: 4\n",
            "Enter number 1\n",
            "Enter number 2\n",
            "Enter number 4\n",
            "Enter number 6\n",
            "Maximum element in the list is : 6 \n",
            "Minimum element in the list is : 1\n"
          ]
        }
      ],
      "source": [
        "# write a program to print the largest and smallest number of the list\n",
        "\n",
        "lst = []\n",
        "num = int(input('How many numbers: '))\n",
        "\n",
        "for n in range(num):\n",
        "    numbers = int(input('Enter number '))\n",
        "    lst.append(numbers)\n",
        "\n",
        "print(\"Maximum element in the list is :\", max(lst), \"\\nMinimum element in the list is :\", min(lst))"
      ]
    },
    {
      "cell_type": "code",
      "source": [
        "# Write a program to delete the alternative numbers in a list\n",
        "\n",
        "import math\n",
        "class Node:\n",
        "\tdef __init__(self, data):\n",
        "\t\tself.data = data\n",
        "\t\tself.next = None\n",
        "\t\t\n",
        "def deleteAlt(head):\n",
        "\tif (head == None):\n",
        "\t\treturn\n",
        "\n",
        "\tprev = head\n",
        "\tnow = head.next\n",
        "\n",
        "\twhile (prev != None and now != None):\n",
        "\t\t\n",
        "\t\tprev.next = now.next\n",
        "\t\tnow = None\n",
        "\t\tprev = prev.next\n",
        "\t\tif (prev != None):\n",
        "\t\t\tnow = prev.next\n",
        "\n",
        "def push(head_ref, new_data):\n",
        "\t\n",
        "\tnew_node = Node(new_data)\n",
        "\tnew_node.data = new_data\n",
        "\tnew_node.next = head_ref\n",
        "\thead_ref = new_node\n",
        "\treturn head_ref\n",
        "\n",
        "def printList(node):\n",
        "\twhile (node != None):\n",
        "\t\tprint(node.data, end = \" \")\n",
        "\t\tnode = node.next\n",
        "\n",
        "if __name__=='__main__':\n",
        "\thead = None\n",
        "\thead = push(head, 5)\n",
        "\thead = push(head, 4)\n",
        "\thead = push(head, 3)\n",
        "\thead = push(head, 2)\n",
        "\thead = push(head, 1)\n",
        "\n",
        "\tprint(\"List before calling deleteAlt() \")\n",
        "\tprintList(head)\n",
        "\n",
        "\tdeleteAlt(head)\n",
        "\n",
        "\tprint(\"\\nList after calling deleteAlt() \")\n",
        "\tprintList(head)\n",
        "\n",
        "# This code is contributed by Srathore\n"
      ],
      "metadata": {
        "colab": {
          "base_uri": "https://localhost:8080/"
        },
        "id": "zvH3vbEKRHwk",
        "outputId": "d0c540ec-cca8-4f4e-e109-50fd5e4ae8ca"
      },
      "execution_count": null,
      "outputs": [
        {
          "output_type": "stream",
          "name": "stdout",
          "text": [
            "List before calling deleteAlt() \n",
            "1 2 3 4 5 \n",
            "List after calling deleteAlt() \n",
            "1 3 5 "
          ]
        }
      ]
    },
    {
      "cell_type": "code",
      "source": [
        "# write a program to delete the odd number in a list and print the even numbers\n",
        "test_list = [1, 9, 4, 7, 6, 5, 8, 3]\n",
        "\n",
        "print (\"The original list is : \" + str(test_list))\n",
        "\n",
        "res = []\n",
        "for val in test_list:\n",
        "\tif not (val % 2 != 0) :\n",
        "\t\tres.append(val)\n",
        "print (\"List after removal of Odd values : \" + str(res))\n",
        "\n"
      ],
      "metadata": {
        "colab": {
          "base_uri": "https://localhost:8080/"
        },
        "id": "QLnpbEooUYeZ",
        "outputId": "6ed02cbe-87bb-49a9-aa4e-f246838be5cb"
      },
      "execution_count": null,
      "outputs": [
        {
          "output_type": "stream",
          "name": "stdout",
          "text": [
            "The original list is : [1, 9, 4, 7, 6, 5, 8, 3]\n",
            "List after removal of Odd values : [4, 6, 8]\n"
          ]
        }
      ]
    }
  ]
}