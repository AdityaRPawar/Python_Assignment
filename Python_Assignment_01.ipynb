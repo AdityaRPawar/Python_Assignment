{
  "nbformat": 4,
  "nbformat_minor": 0,
  "metadata": {
    "colab": {
      "provenance": [],
      "authorship_tag": "ABX9TyNUHNbVrayTS3BDAsAD0OGi",
      "include_colab_link": true
    },
    "kernelspec": {
      "name": "python3",
      "display_name": "Python 3"
    },
    "language_info": {
      "name": "python"
    }
  },
  "cells": [
    {
      "cell_type": "markdown",
      "metadata": {
        "id": "view-in-github",
        "colab_type": "text"
      },
      "source": [
        "<a href=\"https://colab.research.google.com/github/AdityaRPawar/Python_Assignment/blob/main/Python_Assignment_01.ipynb\" target=\"_parent\"><img src=\"https://colab.research.google.com/assets/colab-badge.svg\" alt=\"Open In Colab\"/></a>"
      ]
    },
    {
      "cell_type": "code",
      "execution_count": 20,
      "metadata": {
        "id": "VaNISKag2ROh",
        "colab": {
          "base_uri": "https://localhost:8080/"
        },
        "outputId": "4da3f1f2-2010-4de7-b1a3-e9800e452b04"
      },
      "outputs": [
        {
          "output_type": "stream",
          "name": "stdout",
          "text": [
            "Hello, my name is Gustavo, but you can call me Gus.\n"
          ]
        }
      ],
      "source": [
        "# For the r+ mode\n",
        "myfile = open(\"Python.txt\",\"r+\")\n",
        "data = myfile.read()\n",
        "myfile.write(\"Welcome\")\n",
        "print(data)"
      ]
    },
    {
      "cell_type": "code",
      "source": [
        "# For the w+ mode\n",
        "myfile1 = open (\"Python.txt\",\"w+\")\n",
        "myfile1.write(\"Hello, my name is Gustavo,\")\n",
        "myfile1.seek(0)\n",
        "data = myfile1.read()\n",
        "print(data)"
      ],
      "metadata": {
        "id": "2dzHWDU93_0u",
        "colab": {
          "base_uri": "https://localhost:8080/"
        },
        "outputId": "95899481-a2c3-4fc4-9840-33f3689226f3"
      },
      "execution_count": 18,
      "outputs": [
        {
          "output_type": "stream",
          "name": "stdout",
          "text": [
            "Hello, my name is Gustavo,\n"
          ]
        }
      ]
    },
    {
      "cell_type": "code",
      "source": [
        "# For the a+ mode\n",
        "myfile1 = open (\"Python.txt\",\"a+\")\n",
        "myfile1.write(\" but you can call me Gus.\")\n",
        "myfile1.seek(0)\n",
        "data = myfile1.read()\n",
        "print(data)"
      ],
      "metadata": {
        "id": "-FVq0PJ64Rz0",
        "colab": {
          "base_uri": "https://localhost:8080/"
        },
        "outputId": "a72e019f-6dcd-4dab-bc15-1f45289eba68"
      },
      "execution_count": 19,
      "outputs": [
        {
          "output_type": "stream",
          "name": "stdout",
          "text": [
            "Hello, my name is Gustavo, but you can call me Gus.\n"
          ]
        }
      ]
    }
  ]
}