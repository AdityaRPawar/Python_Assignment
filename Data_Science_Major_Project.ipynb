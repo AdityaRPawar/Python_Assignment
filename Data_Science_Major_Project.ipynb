{
  "nbformat": 4,
  "nbformat_minor": 0,
  "metadata": {
    "colab": {
      "provenance": [],
      "authorship_tag": "ABX9TyNY9eKo+8it1rxgcLHNAXv1",
      "include_colab_link": true
    },
    "kernelspec": {
      "name": "python3",
      "display_name": "Python 3"
    },
    "language_info": {
      "name": "python"
    }
  },
  "cells": [
    {
      "cell_type": "markdown",
      "metadata": {
        "id": "view-in-github",
        "colab_type": "text"
      },
      "source": [
        "<a href=\"https://colab.research.google.com/github/AdityaRPawar/Python_Assignment/blob/main/Data_Science_Major_Project.ipynb\" target=\"_parent\"><img src=\"https://colab.research.google.com/assets/colab-badge.svg\" alt=\"Open In Colab\"/></a>"
      ]
    },
    {
      "cell_type": "code",
      "execution_count": 3,
      "metadata": {
        "id": "MMDMt7T1okui"
      },
      "outputs": [],
      "source": [
        "import numpy as np\n",
        "from sklearn.datasets import fetch_20newsgroups\n",
        "from sklearn.feature_extraction.text import CountVectorizer\n",
        "from sklearn.feature_extraction.text import TfidfTransformer\n",
        "from sklearn.naive_bayes import MultinomialNB\n",
        "from sklearn.pipeline import Pipeline"
      ]
    },
    {
      "cell_type": "code",
      "source": [
        "from sklearn.datasets import fetch_20newsgroups"
      ],
      "metadata": {
        "id": "PLjUrMogonyD"
      },
      "execution_count": 4,
      "outputs": []
    },
    {
      "cell_type": "code",
      "source": [
        "categories = ['rec.motorcycles', 'sci.electronics',\n",
        "              'comp.graphics', 'sci.med']\n",
        "train_data = fetch_20newsgroups(subset='train',\n",
        "                               categories=categories, shuffle=True, random_state=42)\n",
        "\n",
        "print(train_data.target_names)\n",
        "\n",
        "print(\"\\n\".join(train_data.data[0].split(\"\\n\")[:3]))\n",
        "print(train_data.target_names[train_data.target[0]])\n",
        "\n",
        "for t in train_data.target[:10]:\n",
        "    print(train_data.target_names[t])"
      ],
      "metadata": {
        "colab": {
          "base_uri": "https://localhost:8080/"
        },
        "id": "x6wa1jjJorFL",
        "outputId": "2a9cc645-8dfe-4da7-acfe-d9e614e30456"
      },
      "execution_count": 5,
      "outputs": [
        {
          "output_type": "stream",
          "name": "stdout",
          "text": [
            "['comp.graphics', 'rec.motorcycles', 'sci.electronics', 'sci.med']\n",
            "From: kreyling@lds.loral.com (Ed Kreyling 6966)\n",
            "Subject: Sun-os and 8bit ASCII graphics\n",
            "Organization: Loral Data Systems\n",
            "comp.graphics\n",
            "comp.graphics\n",
            "comp.graphics\n",
            "rec.motorcycles\n",
            "comp.graphics\n",
            "sci.med\n",
            "sci.electronics\n",
            "sci.electronics\n",
            "comp.graphics\n",
            "rec.motorcycles\n",
            "sci.electronics\n"
          ]
        }
      ]
    },
    {
      "cell_type": "code",
      "source": [
        "count_vect = CountVectorizer()\n",
        "X_train_counts = count_vect.fit_transform(train_data.data)\n",
        "\n",
        "tfidf_transformer = TfidfTransformer()\n",
        "X_train_tfidf = tfidf_transformer.fit_transform(X_train_counts)"
      ],
      "metadata": {
        "id": "Yn-VG5DQqPHE"
      },
      "execution_count": 6,
      "outputs": []
    },
    {
      "cell_type": "code",
      "source": [
        "clf = MultinomialNB().fit(X_train_tfidf, train_data.target)\n",
        "\n",
        "docs_new = ['I have a Harley Davidson and Yamaha.', 'I have a GTX 1050 GPU']\n",
        "X_new_counts = count_vect.transform(docs_new)\n",
        "X_new_tfidf = tfidf_transformer.transform(X_new_counts)"
      ],
      "metadata": {
        "id": "xw3FEGgKqRZ7"
      },
      "execution_count": 7,
      "outputs": []
    },
    {
      "cell_type": "code",
      "source": [
        "predicted = clf.predict(X_new_tfidf)\n",
        "\n",
        "for doc, category in zip(docs_new, predicted):\n",
        "    print('%r => %s' % (doc, train_data.target_names[category]))"
      ],
      "metadata": {
        "colab": {
          "base_uri": "https://localhost:8080/"
        },
        "id": "pRZw0B4PqTGz",
        "outputId": "c08bf066-b3f2-4cdf-9abd-4e5d55606bd3"
      },
      "execution_count": 8,
      "outputs": [
        {
          "output_type": "stream",
          "name": "stdout",
          "text": [
            "'I have a Harley Davidson and Yamaha.' => rec.motorcycles\n",
            "'I have a GTX 1050 GPU' => sci.med\n"
          ]
        }
      ]
    },
    {
      "cell_type": "code",
      "source": [
        "text_clf = Pipeline([\n",
        "    ('vect', CountVectorizer()),\n",
        "    ('tfidf', TfidfTransformer()),\n",
        "    ('clf', MultinomialNB()),\n",
        "])\n",
        "text_clf.fit(train_data.data, train_data.target) \n",
        "test_data = fetch_20newsgroups(subset='test',\n",
        "                               categories=categories, shuffle=True, random_state=42)\n",
        "docs_test = test_data.data\n",
        "predicted = text_clf.predict(docs_test)\n",
        "print('We got an accuracy of',np.mean(predicted == test_data.target)*100, '% over the test data.')\n"
      ],
      "metadata": {
        "colab": {
          "base_uri": "https://localhost:8080/"
        },
        "id": "udokXMwsqU0r",
        "outputId": "f44a6fa1-5890-4507-ba98-bc575a2ab34b"
      },
      "execution_count": 9,
      "outputs": [
        {
          "output_type": "stream",
          "name": "stdout",
          "text": [
            "We got an accuracy of 91.49746192893402 % over the test data.\n"
          ]
        }
      ]
    }
  ]
}